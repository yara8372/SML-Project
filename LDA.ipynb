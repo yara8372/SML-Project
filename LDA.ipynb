{
 "cells": [
  {
   "cell_type": "markdown",
   "metadata": {},
   "source": [
    "# 1. Importing relevant modules\n",
    "\n",
    "We use pandas to process the csv-file containing the data we are using\n",
    "\n",
    "We will build a LDA model for this run, and will import it from sklearn"
   ]
  },
  {
   "cell_type": "code",
   "execution_count": 1,
   "metadata": {
    "id": "z4UrORiiO5oE"
   },
   "outputs": [],
   "source": [
    "import pandas as pd\n",
    "from sklearn.discriminant_analysis import LinearDiscriminantAnalysis as LDA"
   ]
  },
  {
   "cell_type": "markdown",
   "metadata": {},
   "source": [
    "# 2. Pre-processing the data\n",
    "\n",
    "First we load the data we want to use then we split all relevant factors into one and save the answer in the other.\n"
   ]
  },
  {
   "cell_type": "code",
   "execution_count": 2,
   "metadata": {
    "id": "FsQgqnSFphlh"
   },
   "outputs": [],
   "source": [
    "df = pd.read_csv('data/train.csv')\n",
    "X_train = df.drop(['Lead'], axis=1)\n",
    "y_train = df['Lead']"
   ]
  },
  {
   "cell_type": "markdown",
   "metadata": {},
   "source": [
    "# 3. Creating the model\n",
    "\n",
    "First we create the model and then we train it with the data that we just processed"
   ]
  },
  {
   "cell_type": "code",
   "execution_count": 3,
   "metadata": {
    "colab": {
     "base_uri": "https://localhost:8080/"
    },
    "id": "Tj_OuDYPqz9R",
    "outputId": "ab743803-ce6a-4198-80c1-e3748f022b5f"
   },
   "outputs": [
    {
     "data": {
      "text/plain": [
       "0.8691049085659288"
      ]
     },
     "execution_count": 3,
     "metadata": {},
     "output_type": "execute_result"
    }
   ],
   "source": [
    "clf = LDA()\n",
    "clf.fit(X_train, y_train)\n",
    "clf.score(X_train, y_train)"
   ]
  },
  {
   "cell_type": "markdown",
   "metadata": {},
   "source": [
    "# 4. Testing the model\n",
    "\n",
    "After creating and fitting the model, we will test it with new data"
   ]
  },
  {
   "cell_type": "code",
   "execution_count": 4,
   "metadata": {
    "colab": {
     "base_uri": "https://localhost:8080/"
    },
    "id": "-YiQL0Hqr4TI",
    "outputId": "6000dc1b-5e1f-4b87-9aa1-82cc0570d797"
   },
   "outputs": [],
   "source": [
    "X_test = pd.read_csv('data/test.csv')\n",
    "y_pred = clf.predict(X_test)"
   ]
  },
  {
   "cell_type": "markdown",
   "metadata": {},
   "source": [
    "# 5. Converting predictions\n",
    "\n",
    "After the prediction we will convert the generated predictions with our trained model to fit the format given by our teacher."
   ]
  },
  {
   "cell_type": "code",
   "execution_count": 5,
   "metadata": {
    "id": "BLSO8p0nsnsx"
   },
   "outputs": [],
   "source": [
    "from utils import gen_csv_from_pred\n",
    "gen_csv_from_pred(y_pred, \"LDA\")"
   ]
  }
 ],
 "metadata": {
  "colab": {
   "provenance": []
  },
  "kernelspec": {
   "display_name": "Python 3 (ipykernel)",
   "language": "python",
   "name": "python3"
  },
  "language_info": {
   "codemirror_mode": {
    "name": "ipython",
    "version": 3
   },
   "file_extension": ".py",
   "mimetype": "text/x-python",
   "name": "python",
   "nbconvert_exporter": "python",
   "pygments_lexer": "ipython3",
   "version": "3.10.6"
  },
  "vscode": {
   "interpreter": {
    "hash": "916dbcbb3f70747c44a77c7bcd40155683ae19c65e1c03b4aa3499c5328201f1"
   }
  }
 },
 "nbformat": 4,
 "nbformat_minor": 1
}
